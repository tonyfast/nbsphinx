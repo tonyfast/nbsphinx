{
 "cells": [
  {
   "cell_type": "markdown",
   "metadata": {
    "nbsphinx": "hidden"
   },
   "source": [
    "This notebook is part of the `nbsphinx` documentation: http://nbsphinx.readthedocs.io/."
   ]
  },
  {
   "cell_type": "markdown",
   "metadata": {},
   "source": [
    "# Notebooks in Sub-Directories\n",
    "\n",
    "You can organize your notebooks in subdirectories and `nbsphinx` will take care that relative links to other notebooks, images and other files still work.\n",
    "\n",
    "Let's see if links to local images work: ![Jupyter notebook icon](../images/notebook_icon.png)"
   ]
  },
  {
   "cell_type": "code",
   "execution_count": null,
   "metadata": {},
   "outputs": [],
   "source": [
    "from IPython.display import Image\n",
    "Image(filename='../images/notebook_icon.png')"
   ]
  },
  {
   "cell_type": "markdown",
   "metadata": {},
   "source": [
    "<div class=\"alert alert-warning\">\n",
    "\n",
    "**Warning:**\n",
    "\n",
    "There may be problems with images in output cells if your source directory contains symbolic links, see [issue #49](https://github.com/spatialaudio/nbsphinx/issues/49).\n",
    "\n",
    "</div>\n",
    "\n",
    "A link to a notebook in the same sub-directory: [link](toctree.ipynb).\n",
    "\n",
    "A link to a notebook in the parent directory: [link](../markdown-cells.ipynb).\n",
    "\n",
    "A link to a local file: [link](../images/notebook_icon.png).\n",
    "\n",
    "A random equation:\n",
    "\\begin{equation}\n",
    "F_n = F_{n-1} + F_{n-2}\n",
    "\\tag{08.15}\n",
    "\\label{fibonacci-recurrence}\n",
    "\\end{equation}\n",
    "\n",
    "## A Sub-Section\n",
    "\n",
    "This is just for testing inter-notebook links,\n",
    "see [this section](../markdown-cells.ipynb#Links-to-Other-Notebooks)."
   ]
  }
 ],
 "metadata": {
  "kernelspec": {
   "display_name": "Python 3",
   "language": "python",
   "name": "python3"
  },
  "language_info": {
   "codemirror_mode": {
    "name": "ipython",
    "version": 3
   },
   "file_extension": ".py",
   "mimetype": "text/x-python",
   "name": "python",
   "nbconvert_exporter": "python",
   "pygments_lexer": "ipython3",
   "version": "3.6.7"
  }
 },
 "nbformat": 4,
 "nbformat_minor": 2
}
